{
 "cells": [
  {
   "cell_type": "code",
   "execution_count": 1,
   "metadata": {},
   "outputs": [],
   "source": [
    "%load_ext autoreload\n",
    "%autoreload\n",
    "import pandas as pd \n",
    "import numpy as np\n",
    "import matplotlib.pyplot as plt\n",
    "from tqdm import tqdm\n",
    "import datetime\n",
    "import time   \n",
    "import math\n",
    "\n",
    "from scipy.stats import binom, norm, t\n",
    "from scipy.stats import ttest_ind_from_stats as ttest\n",
    "from scipy.stats import chi2_contingency as chi2\n",
    "\n",
    "from statsmodels.stats.power import NormalIndPower, tt_ind_solve_power\n",
    "from statsmodels.stats.weightstats import _zconfint_generic, _tconfint_generic\n",
    "\n",
    "from IPython.display import Markdown, display\n",
    "def printmd(string):\n",
    "    display(Markdown(string))\n",
    "\n",
    "p_thresh = 0.1\n",
    "default_typ2 = 0.2\n",
    "\n",
    "from validate_calculate import *\n",
    "from validate_stats import *\n",
    "from validate_format import *\n"
   ]
  },
  {
   "cell_type": "code",
   "execution_count": 2,
   "metadata": {},
   "outputs": [],
   "source": [
    "## The Split Python SDK"
   ]
  },
  {
   "cell_type": "code",
   "execution_count": 3,
   "metadata": {},
   "outputs": [],
   "source": [
    "from splitio import get_factory"
   ]
  },
  {
   "cell_type": "code",
   "execution_count": 4,
   "metadata": {},
   "outputs": [],
   "source": [
    "api_key = '9ea0fre07gg0m9eneoh31r6romoi0crrs2g8'"
   ]
  },
  {
   "cell_type": "code",
   "execution_count": 5,
   "metadata": {},
   "outputs": [],
   "source": [
    "\n",
    "config = {'ready' : 5000,\n",
    "         'eventsQueueSize' : 50000}\n",
    "\n",
    "factory = get_factory(api_key, config=config)\n",
    "split = factory.client()\n"
   ]
  },
  {
   "cell_type": "code",
   "execution_count": null,
   "metadata": {},
   "outputs": [],
   "source": []
  },
  {
   "cell_type": "markdown",
   "metadata": {},
   "source": [
    "## Mimic an AA test"
   ]
  },
  {
   "cell_type": "markdown",
   "metadata": {},
   "source": [
    "## Randomizing user behaviour"
   ]
  },
  {
   "cell_type": "code",
   "execution_count": 6,
   "metadata": {},
   "outputs": [],
   "source": [
    "booking_event_type = 'booking'\n",
    "session_event = 'new_session'\n",
    "traffic_type = 'user'\n",
    "split_name = \"SplitValidate\" \n",
    "version = '2'\n",
    "\n",
    "attributes = dict()\n",
    "attributes['country'] = 'uk'"
   ]
  },
  {
   "cell_type": "code",
   "execution_count": 7,
   "metadata": {},
   "outputs": [],
   "source": [
    "def getSessions(binom_n = 50, binom_p = 0.01, verbose=False):\n",
    "    ns = 1 + binom.rvs(binom_n, binom_p)\n",
    "    if verbose:\n",
    "        print (str(datetime.datetime.now()), ns)\n",
    "    return ns\n",
    "\n",
    "def getBookings(booking_n = 100, booking_p = 0.005, verbose=False):\n",
    "    nb = binom.rvs(booking_n, booking_p)\n",
    "    if verbose: \n",
    "        print (str(datetime.datetime.now()), nb)\n",
    "    return nb\n",
    "def getBookingValue(booking_value_mean = 100, booking_value_standard_deviation = 15, verbose=False):\n",
    "    bv = norm.rvs(booking_value_mean, booking_value_standard_deviation)\n",
    "    if verbose:\n",
    "        print (str(datetime.datetime.now()), bv)\n",
    "    return bv\n",
    "    "
   ]
  },
  {
   "cell_type": "code",
   "execution_count": 23,
   "metadata": {},
   "outputs": [],
   "source": [
    "read_from_file = True\n",
    "\n",
    "if read_from_file:\n",
    "    bookings_df=pd.read_csv('SampleData/bookings_df_V'+version+'_'+split_name+'.csv')        \n",
    "    sessions_df=pd.read_csv('SampleData/sessions_df_V'+version+'_'+split_name+'.csv')   \n",
    "    \n",
    "    ## Sample data relates to this Split \n",
    "    ## https://app.split.io/org/a91fe850-2994-11e9-a67b-069aee18f4aa/ws/a92650f0-2994-11e9-a67b-069aee18f4aa/splits/ee1ab360-5615-11e9-8b3b-1268881cf0a2/env/a927fea0-2994-11e9-a67b-069aee18f4aa/results/%7B%22version%22%3A1554300425591%2C%22rule%22%3A%22default%20rule%22%2C%22comparison%22%3A%22on%22%2C%22baseline%22%3A%22off%22%2C%22tags%22%3A%5B%5D%2C%22owners%22%3A%5B%5D%2C%22summaryCard%22%3A%22TOTAL%22%7D\n",
    "    ## (SplitValidate, V2, default rule, Lizzie's org)\n",
    "else:\n",
    "    \n",
    "    n_users = 10000\n",
    "    bookings_df=pd.DataFrame(columns = ['userID', 'Treatment', 'sessionID', 'bookingID', 'bookingValue'])\n",
    "    sessions_df=pd.DataFrame(columns = ['userID', 'Treatment', 'sessionID'])\n",
    "\n",
    "\n",
    "    for user_ID in tqdm(range(n_users)):\n",
    "        attributes['userID'] = split_name+'V'+version+'_'+str(user_ID)\n",
    "\n",
    "        try:        \n",
    "            # assign user to treatment\n",
    "            treatment = split.get_treatment(attributes['userID'], split_name, attributes)\n",
    "\n",
    "        except TimeoutException:\n",
    "           # The SDK failed to initialize in a second. Abort!\n",
    "           sys.exit()\n",
    "\n",
    "        # pick the number of sessions user has\n",
    "        n_sessions = getSessions()\n",
    "\n",
    "        for session_ID in range(n_sessions):\n",
    "            # track a new user session\n",
    "            trackEvent = split.track(attributes['userID'], traffic_type, session_event)\n",
    "            #if user_ID % 100 == 0 : print (user_ID, treatment, session_ID, trackEvent)        \n",
    "            # pick how many bookings the user makes in this session\n",
    "            n_bookings = getBookings()\n",
    "\n",
    "            session_data = {'userID':attributes['userID'], \n",
    "                            'Treatment':treatment,\n",
    "                            'sessionID': attributes['userID']+'_'+str(session_ID), \n",
    "                            'bookings': n_bookings}\n",
    "\n",
    "            sessions_df = sessions_df.append(session_data, ignore_index=True)        \n",
    "\n",
    "\n",
    "            for booking_ID in range(n_bookings):\n",
    "\n",
    "                    # pick the value of the booking\n",
    "                    booking_value = getBookingValue()\n",
    "                    trackEvent = split.track(attributes['userID'], traffic_type, booking_event_type , booking_value)\n",
    "\n",
    "                    booking_data = {'userID':attributes['userID'], \n",
    "                                    'Treatment':treatment,\n",
    "                                    'sessionID': attributes['userID']+'_'+str(session_ID), \n",
    "                                    'bookingID': attributes['userID']+'_'+str(session_ID)+'_'+str(booking_ID),\n",
    "                                    'bookingValue': booking_value}\n",
    "\n",
    "                    bookings_df = bookings_df.append(booking_data, ignore_index=True)\n",
    "\n",
    "    print (time.strftime(\"%d/%m/%Y %H:%M:%S\"))\n",
    "    time.sleep(240)\n",
    "    print ('destroying @ ',time.strftime(\"%d/%m/%Y %H:%M:%S\"))\n",
    "    split.destroy()                        \n",
    "\n",
    "    bookings_df.to_csv('SampleData/bookings_df_V'+version+'_'+split_name+'.csv', index=False)        \n",
    "    sessions_df.to_csv('SampleData/sessions_df_V'+version+'_'+split_name+'.csv', index=False)        "
   ]
  },
  {
   "cell_type": "code",
   "execution_count": 9,
   "metadata": {},
   "outputs": [
    {
     "data": {
      "text/html": [
       "<div>\n",
       "<style scoped>\n",
       "    .dataframe tbody tr th:only-of-type {\n",
       "        vertical-align: middle;\n",
       "    }\n",
       "\n",
       "    .dataframe tbody tr th {\n",
       "        vertical-align: top;\n",
       "    }\n",
       "\n",
       "    .dataframe thead th {\n",
       "        text-align: right;\n",
       "    }\n",
       "</style>\n",
       "<table border=\"1\" class=\"dataframe\">\n",
       "  <thead>\n",
       "    <tr style=\"text-align: right;\">\n",
       "      <th></th>\n",
       "      <th>userID</th>\n",
       "      <th>sessionID</th>\n",
       "      <th>bookings</th>\n",
       "    </tr>\n",
       "    <tr>\n",
       "      <th>Treatment</th>\n",
       "      <th></th>\n",
       "      <th></th>\n",
       "      <th></th>\n",
       "    </tr>\n",
       "  </thead>\n",
       "  <tbody>\n",
       "    <tr>\n",
       "      <th>off</th>\n",
       "      <td>5040</td>\n",
       "      <td>7528</td>\n",
       "      <td>3822.0</td>\n",
       "    </tr>\n",
       "    <tr>\n",
       "      <th>on</th>\n",
       "      <td>4960</td>\n",
       "      <td>7471</td>\n",
       "      <td>3772.0</td>\n",
       "    </tr>\n",
       "  </tbody>\n",
       "</table>\n",
       "</div>"
      ],
      "text/plain": [
       "           userID  sessionID  bookings\n",
       "Treatment                             \n",
       "off          5040       7528    3822.0\n",
       "on           4960       7471    3772.0"
      ]
     },
     "execution_count": 9,
     "metadata": {},
     "output_type": "execute_result"
    }
   ],
   "source": [
    "sessions_df.groupby('Treatment').agg({'userID':'nunique','sessionID':'nunique', 'bookings': 'sum'})"
   ]
  },
  {
   "cell_type": "code",
   "execution_count": 10,
   "metadata": {},
   "outputs": [],
   "source": [
    "#bookings_df_AA=pd.read_csv('bookings_df_V1_SplitValidate_AA.csv')        \n",
    "#sessions_df_AA=pd.read_csv('sessions_df_V1_SplitValidate_AA.csv')    "
   ]
  },
  {
   "cell_type": "markdown",
   "metadata": {},
   "source": [
    "## Calculating the metrics manually"
   ]
  },
  {
   "cell_type": "markdown",
   "metadata": {},
   "source": [
    "### Users that book\n",
    "#### fraction of unique users with at least one booking "
   ]
  },
  {
   "cell_type": "code",
   "execution_count": 11,
   "metadata": {},
   "outputs": [
    {
     "data": {
      "text/plain": [
       "(0.5119, 5119, 4881, 10000)"
      ]
     },
     "execution_count": 11,
     "metadata": {},
     "output_type": "execute_result"
    }
   ],
   "source": [
    "getProportionMetric(sessions_df, event='bookings')\n",
    "#returns: \n",
    "# Proportion, \n",
    "# N_users_completed_action,\n",
    "# N_users_didntcomplete_action, \n",
    "# N_users_total"
   ]
  },
  {
   "cell_type": "markdown",
   "metadata": {},
   "source": [
    "### Average Booking value per user"
   ]
  },
  {
   "cell_type": "code",
   "execution_count": 12,
   "metadata": {},
   "outputs": [
    {
     "data": {
      "text/plain": [
       "(100.0755132309858,\n",
       " 13.315078047475195,\n",
       " 5119,\n",
       " 177.29130341035585,\n",
       " 48.256138697128755,\n",
       " 149.91091409796317,\n",
       " 100.02426670814293,\n",
       " 122.17642325528661)"
      ]
     },
     "execution_count": 12,
     "metadata": {},
     "output_type": "execute_result"
    }
   ],
   "source": [
    "getAverageValue(bookings_df, event = 'bookingID',  value='bookingValue')\n",
    "# returns: \n",
    "# averageValue, \n",
    "# averageValue_std,\n",
    "# averageValue_contributors, \n",
    "# averageValue_var, \n",
    "# averageValue_min, \n",
    "# averageValue_max, \n",
    "# averageValue_median, \n",
    "# averageValue_95"
   ]
  },
  {
   "cell_type": "markdown",
   "metadata": {},
   "source": [
    "### Total Booking value per user"
   ]
  },
  {
   "cell_type": "code",
   "execution_count": 13,
   "metadata": {},
   "outputs": [
    {
     "data": {
      "text/plain": [
       "(76.03915065850505, 94.09828068613025, 10000)"
      ]
     },
     "execution_count": 13,
     "metadata": {},
     "output_type": "execute_result"
    }
   ],
   "source": [
    "getTotalValue(bookings_df,sessions_df, event = 'bookingID',  value='bookingValue')\n",
    "# returns: \n",
    "# averageTotalValue, \n",
    "# averageTotalValue_std,\n",
    "# averageValue_contributors"
   ]
  },
  {
   "cell_type": "markdown",
   "metadata": {},
   "source": [
    "### Bookings per user"
   ]
  },
  {
   "cell_type": "code",
   "execution_count": 14,
   "metadata": {},
   "outputs": [
    {
     "data": {
      "text/plain": [
       "(0.7594, 0.92908447398286, 10000)"
      ]
     },
     "execution_count": 14,
     "metadata": {},
     "output_type": "execute_result"
    }
   ],
   "source": [
    "getEventsPerUser(bookings_df,sessions_df, event = 'bookingID')\n",
    "# returns: \n",
    "# averageEventsPerUser, \n",
    "# averageEventsPerUser_std,\n",
    "# averageEventsPerUser_contributors"
   ]
  },
  {
   "cell_type": "markdown",
   "metadata": {},
   "source": [
    "### Bookings per session"
   ]
  },
  {
   "cell_type": "code",
   "execution_count": 15,
   "metadata": {},
   "outputs": [
    {
     "data": {
      "text/plain": [
       "(0.5086233333333332, 0.6274128558615018, 10000)"
      ]
     },
     "execution_count": 15,
     "metadata": {},
     "output_type": "execute_result"
    }
   ],
   "source": [
    "getEventsPerSession(bookings_df,sessions_df, denom_event = 'sessionID', num_event = 'bookingID')\n",
    "# returns: \n",
    "# averageEventsPerEvent, \n",
    "# averageEventsPerEvent_std,\n",
    "# averageEventsPerEvent_contributors"
   ]
  },
  {
   "cell_type": "markdown",
   "metadata": {},
   "source": [
    "### Total Bookings"
   ]
  },
  {
   "cell_type": "code",
   "execution_count": 16,
   "metadata": {},
   "outputs": [
    {
     "data": {
      "text/plain": [
       "(7594, 5119)"
      ]
     },
     "execution_count": 16,
     "metadata": {},
     "output_type": "execute_result"
    }
   ],
   "source": [
    "getAcrossBookings(bookings_df, event = 'bookingID')\n",
    "# returns\n",
    "# number of events\n",
    "# number of contributors"
   ]
  },
  {
   "cell_type": "markdown",
   "metadata": {},
   "source": [
    "## Evaluating results"
   ]
  },
  {
   "cell_type": "code",
   "execution_count": 17,
   "metadata": {},
   "outputs": [
    {
     "name": "stdout",
     "output_type": "stream",
     "text": [
      "\n",
      "on\n",
      "\n",
      "Users :  4960\n",
      "Users That Book :  (0.5137096774193548, 2548, 2412, 4960)\n",
      "Average Booking Value :  (99.87505256569894, 13.509461933658256, 2548, 182.50556173696148, 48.75243172134658, 149.91091409796317, 99.61944641356686, 122.50780929050515)\n",
      "Total Booking Value :  (75.94568347055599, 93.62582712830577, 4960)\n",
      "Bookings Per User :  0.760483870967742\n",
      "Bookings Per Session :  0.5038877688172045\n",
      "Total Bookings in Treatment :  (3772, 2548)\n",
      "Total Sessions in Treatment :  (7471, 4960)\n",
      "\n",
      "off\n",
      "\n",
      "Users :  5040\n",
      "Users That Book :  (0.5101190476190476, 2571, 2469, 5040)\n",
      "Average Booking Value :  (100.27418058810392, 13.119198528585756, 2571, 172.11337003244665, 48.256138697128755, 149.32471394676682, 100.31627848171306, 121.6812669105056)\n",
      "Total Booking Value :  (76.1311342402963, 94.57012957743675, 5040)\n",
      "Bookings Per User :  0.7583333333333333\n",
      "Bookings Per Session :  0.51328373015873\n",
      "Total Bookings in Treatment :  (3822, 2571)\n",
      "Total Sessions in Treatment :  (7528, 5040)\n"
     ]
    }
   ],
   "source": [
    "printResults(sessions_df, bookings_df)"
   ]
  },
  {
   "cell_type": "code",
   "execution_count": 18,
   "metadata": {},
   "outputs": [
    {
     "data": {
      "text/markdown": [
       "**Users That Book**"
      ],
      "text/plain": [
       "<IPython.core.display.Markdown object>"
      ]
     },
     "metadata": {},
     "output_type": "display_data"
    },
    {
     "name": "stdout",
     "output_type": "stream",
     "text": [
      "\n",
      "\tb = 51.0119%, c = 51.3710%\n",
      "\timpact = 0.7039%, error margin = 3.2507%, t-error = 3.8416%, MLDE (relative) = 4.873%\n",
      "\tp = 0.7345 (Not Significant)\n",
      "\n"
     ]
    },
    {
     "data": {
      "text/markdown": [
       "**Average Booking Value**"
      ],
      "text/plain": [
       "<IPython.core.display.Markdown object>"
      ]
     },
     "metadata": {},
     "output_type": "display_data"
    },
    {
     "name": "stdout",
     "output_type": "stream",
     "text": [
      "\n",
      "\tb = 100.2742, c = 99.8751\n",
      "\timpact = -0.3980%, error margin = 0.6123%, relative = 0.6107%, MLDE (relative) = 0.9095%, \n",
      "\tp = 0.2836 (Not Significant) \n",
      "\tstd (b, c) = (13.1192, 13.5095)\n",
      "\n"
     ]
    },
    {
     "data": {
      "text/markdown": [
       "**Total Booking Value**"
      ],
      "text/plain": [
       "<IPython.core.display.Markdown object>"
      ]
     },
     "metadata": {},
     "output_type": "display_data"
    },
    {
     "name": "stdout",
     "output_type": "stream",
     "text": [
      "\n",
      "\tb = 76.1311, c = 75.9457\n",
      "\timpact = -0.2436%, error margin = 3.0961%, relative = 4.0668%, MLDE (relative) = 6.1780%, \n",
      "\tp = 0.9215 (Not Significant) \n",
      "\tstd (b, c) = (94.5701, 93.6258)\n",
      "\n"
     ]
    },
    {
     "data": {
      "text/markdown": [
       "**Bookings Per User**"
      ],
      "text/plain": [
       "<IPython.core.display.Markdown object>"
      ]
     },
     "metadata": {},
     "output_type": "display_data"
    },
    {
     "name": "stdout",
     "output_type": "stream",
     "text": [
      "\n",
      "\tb = 0.7583, c = 0.7605\n",
      "\timpact = 0.2836%, error margin = 0.0306%, relative = 4.0311%, MLDE (relative) = 6.0961%, \n",
      "\tp = 0.9079 (Not Significant) \n",
      "\tstd (b, c) = (0.9295, 0.9287)\n",
      "\n"
     ]
    },
    {
     "data": {
      "text/markdown": [
       "**Bookings Per Session**"
      ],
      "text/plain": [
       "<IPython.core.display.Markdown object>"
      ]
     },
     "metadata": {},
     "output_type": "display_data"
    },
    {
     "name": "stdout",
     "output_type": "stream",
     "text": [
      "\n",
      "\tb = 0.5133, c = 0.5039\n",
      "\timpact = -1.8306%, error margin = 0.0206%, relative = 4.0218%, MLDE (relative) = 6.2026%, \n",
      "\tp = 0.4540 (Not Significant) \n",
      "\tstd (b, c) = (0.6401, 0.6142)\n",
      "\n"
     ]
    },
    {
     "data": {
      "text/markdown": [
       "**Total Bookings in Treatment**"
      ],
      "text/plain": [
       "<IPython.core.display.Markdown object>"
      ]
     },
     "metadata": {},
     "output_type": "display_data"
    },
    {
     "name": "stdout",
     "output_type": "stream",
     "text": [
      "\n",
      "\tb =  3822, c =  3772 \n",
      "\timpact = -1.3082% \n",
      "\n"
     ]
    },
    {
     "data": {
      "text/markdown": [
       "**Total Sessions in Treatment**"
      ],
      "text/plain": [
       "<IPython.core.display.Markdown object>"
      ]
     },
     "metadata": {},
     "output_type": "display_data"
    },
    {
     "name": "stdout",
     "output_type": "stream",
     "text": [
      "\n",
      "\tb = 7528, c = 7471 \n",
      "\timpact = -0.7572% \n",
      "\n"
     ]
    }
   ],
   "source": [
    "getStatTestResults(sessions_df, bookings_df, alpha_test = p_thresh, type_two = default_typ2)"
   ]
  },
  {
   "cell_type": "code",
   "execution_count": 22,
   "metadata": {},
   "outputs": [
    {
     "data": {
      "text/markdown": [
       "**Users That Book**"
      ],
      "text/plain": [
       "<IPython.core.display.Markdown object>"
      ]
     },
     "metadata": {},
     "output_type": "display_data"
    },
    {
     "name": "stdout",
     "output_type": "stream",
     "text": [
      "\n",
      "\tb = 51.0119%, c = 51.3710%\n",
      "\timpact = 0.7039%, error margin = 3.2507%, t-error = 3.8416%, MLDE (relative) = 5.736%\n",
      "\tp = 0.7345 (Not Significant)\n",
      "\n"
     ]
    },
    {
     "data": {
      "text/markdown": [
       "**Average Booking Value**"
      ],
      "text/plain": [
       "<IPython.core.display.Markdown object>"
      ]
     },
     "metadata": {},
     "output_type": "display_data"
    },
    {
     "name": "stdout",
     "output_type": "stream",
     "text": [
      "\n",
      "\tb = 100.2742, c = 99.8751\n",
      "\timpact = -0.3980%, error margin = 0.6123%, relative = 0.6107%, MLDE (relative) = 1.0704%, \n",
      "\tp = 0.2836 (Not Significant) \n",
      "\tstd (b, c) = (13.1192, 13.5095)\n",
      "\n"
     ]
    },
    {
     "data": {
      "text/markdown": [
       "**Total Booking Value**"
      ],
      "text/plain": [
       "<IPython.core.display.Markdown object>"
      ]
     },
     "metadata": {},
     "output_type": "display_data"
    },
    {
     "name": "stdout",
     "output_type": "stream",
     "text": [
      "\n",
      "\tb = 76.1311, c = 75.9457\n",
      "\timpact = -0.2436%, error margin = 3.0961%, relative = 4.0668%, MLDE (relative) = 7.2710%, \n",
      "\tp = 0.9215 (Not Significant) \n",
      "\tstd (b, c) = (94.5701, 93.6258)\n",
      "\n"
     ]
    },
    {
     "data": {
      "text/markdown": [
       "**Bookings Per User**"
      ],
      "text/plain": [
       "<IPython.core.display.Markdown object>"
      ]
     },
     "metadata": {},
     "output_type": "display_data"
    },
    {
     "name": "stdout",
     "output_type": "stream",
     "text": [
      "\n",
      "\tb = 0.7583, c = 0.7605\n",
      "\timpact = 0.2836%, error margin = 0.0306%, relative = 4.0311%, MLDE (relative) = 7.1746%, \n",
      "\tp = 0.9079 (Not Significant) \n",
      "\tstd (b, c) = (0.9295, 0.9287)\n",
      "\n"
     ]
    },
    {
     "data": {
      "text/markdown": [
       "**Bookings Per Session**"
      ],
      "text/plain": [
       "<IPython.core.display.Markdown object>"
      ]
     },
     "metadata": {},
     "output_type": "display_data"
    },
    {
     "name": "stdout",
     "output_type": "stream",
     "text": [
      "\n",
      "\tb = 0.5133, c = 0.5039\n",
      "\timpact = -1.8306%, error margin = 0.0206%, relative = 4.0218%, MLDE (relative) = 7.3000%, \n",
      "\tp = 0.4540 (Not Significant) \n",
      "\tstd (b, c) = (0.6401, 0.6142)\n",
      "\n"
     ]
    },
    {
     "data": {
      "text/markdown": [
       "**Total Bookings in Treatment**"
      ],
      "text/plain": [
       "<IPython.core.display.Markdown object>"
      ]
     },
     "metadata": {},
     "output_type": "display_data"
    },
    {
     "name": "stdout",
     "output_type": "stream",
     "text": [
      "\n",
      "\tb =  3822, c =  3772 \n",
      "\timpact = -1.3082% \n",
      "\n"
     ]
    },
    {
     "data": {
      "text/markdown": [
       "**Total Sessions in Treatment**"
      ],
      "text/plain": [
       "<IPython.core.display.Markdown object>"
      ]
     },
     "metadata": {},
     "output_type": "display_data"
    },
    {
     "name": "stdout",
     "output_type": "stream",
     "text": [
      "\n",
      "\tb = 7528, c = 7471 \n",
      "\timpact = -0.7572% \n",
      "\n"
     ]
    }
   ],
   "source": [
    "getStatTestResults(sessions_df, bookings_df, alpha_test = 0.1, type_two = 0.1)"
   ]
  },
  {
   "cell_type": "code",
   "execution_count": null,
   "metadata": {},
   "outputs": [],
   "source": []
  }
 ],
 "metadata": {
  "kernelspec": {
   "display_name": "Python 3",
   "language": "python",
   "name": "python3"
  },
  "language_info": {
   "codemirror_mode": {
    "name": "ipython",
    "version": 3
   },
   "file_extension": ".py",
   "mimetype": "text/x-python",
   "name": "python",
   "nbconvert_exporter": "python",
   "pygments_lexer": "ipython3",
   "version": "3.7.1"
  }
 },
 "nbformat": 4,
 "nbformat_minor": 2
}
